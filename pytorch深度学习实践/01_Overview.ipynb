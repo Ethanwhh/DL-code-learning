{
 "cells": [
  {
   "cell_type": "code",
   "execution_count": 1,
   "id": "41e79a2e-0d3e-4c25-a316-bb160a03ea05",
   "metadata": {
    "execution": {
     "iopub.execute_input": "2024-12-08T06:25:49.114991Z",
     "iopub.status.busy": "2024-12-08T06:25:49.114554Z",
     "iopub.status.idle": "2024-12-08T06:25:49.118014Z",
     "shell.execute_reply": "2024-12-08T06:25:49.117566Z",
     "shell.execute_reply.started": "2024-12-08T06:25:49.114969Z"
    },
    "tags": []
   },
   "outputs": [
    {
     "name": "stdout",
     "output_type": "stream",
     "text": [
      "2.3.1+cpu\n"
     ]
    }
   ],
   "source": [
    "import torch\n",
    "print(torch.__version__)"
   ]
  }
 ],
 "metadata": {
  "kernelspec": {
   "display_name": "Python 3 (ipykernel)",
   "language": "python",
   "name": "python3"
  },
  "language_info": {
   "codemirror_mode": {
    "name": "ipython",
    "version": 3
   },
   "file_extension": ".py",
   "mimetype": "text/x-python",
   "name": "python",
   "nbconvert_exporter": "python",
   "pygments_lexer": "ipython3",
   "version": "3.10.14"
  }
 },
 "nbformat": 4,
 "nbformat_minor": 5
}
