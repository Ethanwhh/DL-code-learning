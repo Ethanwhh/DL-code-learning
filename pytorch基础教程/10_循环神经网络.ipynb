{
 "cells": [
  {
   "cell_type": "markdown",
   "metadata": {},
   "source": [
    "# PyTorch 循环神经网络（RNN）\n",
    "\n",
    "循环神经网络（Recurrent Neural Networks, RNN）是一类神经网络架构，专门用于处理序列数据，能够捕捉时间序列或有序数据的动态信息，能够处理序列数据，如文本、时间序列或音频。\n",
    "\n",
    "RNN 在自然语言处理（NLP）、语音识别、时间序列预测等任务中有着广泛的应用。\n",
    "\n",
    "RNN 的关键特性是其能够保持隐状态（hidden state），使得网络能够记住先前时间步的信息，这对于处理序列数据至关重要。\n",
    "\n",
    "RNN 的基本结构\n",
    "在传统的前馈神经网络（Feedforward Neural Network）中，数据是从输入层流向输出层的，而在 RNN 中，数据不仅沿着网络层级流动，还会在每个时间步骤上传播到当前的隐层状态，从而将之前的信息传递到下一个时间步骤。\n",
    "\n",
    "隐状态（Hidden State）： RNN 通过隐状态来记住序列中的信息。\n",
    "\n",
    "隐状态是通过上一时间步的隐状态和当前输入共同计算得到的。"
   ]
  },
  {
   "cell_type": "markdown",
   "metadata": {},
   "source": [
    "## PyTorch 中的 RNN 基础\n",
    "\n",
    "在 PyTorch 中，RNN 可以用于构建复杂的序列模型。\n",
    "\n",
    "PyTorch 提供了几种 RNN 模块，包括：\n",
    "\n",
    "- torch.nn.RNN：基本的RNN单元。\n",
    "\n",
    "- torch.nn.LSTM：长短期记忆单元，能够学习长期依赖关系。\n",
    "\n",
    "- torch.nn.GRU：门控循环单元，是LSTM的简化版本，但通常更容易训练。\n",
    "\n",
    "使用 RNN 类时，您需要指定输入的维度、隐藏层的维度以及其他一些超参数。"
   ]
  },
  {
   "cell_type": "markdown",
   "metadata": {},
   "source": [
    "## PyTorch 实现一个简单的 RNN 实例\n",
    "\n",
    "以下是一个简单的 PyTorch 实现例子，使用 RNN 模型来处理序列数据并进行分类。"
   ]
  },
  {
   "cell_type": "markdown",
   "metadata": {},
   "source": [
    "1、导入必要库"
   ]
  },
  {
   "cell_type": "code",
   "execution_count": null,
   "metadata": {},
   "outputs": [],
   "source": [
    "import torch\n",
    "import torch.nn as nn\n",
    "import torch.optim as optim\n",
    "from torch.utils.data import DataLoader, TensorDataset\n",
    "import numpy as np"
   ]
  },
  {
   "cell_type": "markdown",
   "metadata": {},
   "source": [
    "2、定义 RNN 模型"
   ]
  },
  {
   "cell_type": "code",
   "execution_count": null,
   "metadata": {},
   "outputs": [],
   "source": [
    "class SimpleRNN(nn.Module):\n",
    "    def __init__(self, input_size, hidden_size, output_size):\n",
    "        super(SimpleRNN, self).__init__()\n",
    "        # 定义 RNN 层\n",
    "        self.rnn = nn.RNN(input_size, hidden_size, batch_first=True)\n",
    "        # 定义全连接层\n",
    "        self.fc = nn.Linear(hidden_size, output_size)\n",
    "\n",
    "    def forward(self, x):\n",
    "        # x: (batch_size, seq_len, input_size)\n",
    "        out, _ = self.rnn(x)  # out: (batch_size, seq_len, hidden_size)\n",
    "        # 取序列最后一个时间步的输出作为模型的输出\n",
    "        out = out[:, -1, :]  # (batch_size, hidden_size)\n",
    "        out = self.fc(out)  # 全连接层\n",
    "        return out"
   ]
  },
  {
   "cell_type": "markdown",
   "metadata": {},
   "source": [
    "3、创建训练数据\n",
    "\n",
    "为了训练 RNN，我们生成一些随机的序列数据。这里的目标是将每个序列的最后一个值作为分类的目标。"
   ]
  },
  {
   "cell_type": "code",
   "execution_count": null,
   "metadata": {},
   "outputs": [],
   "source": [
    "# 生成一些随机序列数据\n",
    "num_samples = 1000\n",
    "seq_len = 10\n",
    "input_size = 5\n",
    "output_size = 2  # 假设二分类问题\n",
    "\n",
    "# 随机生成输入数据 (batch_size, seq_len, input_size)\n",
    "X = torch.randn(num_samples, seq_len, input_size)\n",
    "# 随机生成目标标签 (batch_size, output_size)\n",
    "Y = torch.randint(0, output_size, (num_samples,))\n",
    "\n",
    "# 创建数据加载器\n",
    "dataset = TensorDataset(X, Y)\n",
    "train_loader = DataLoader(dataset, batch_size=32, shuffle=True)"
   ]
  },
  {
   "cell_type": "markdown",
   "metadata": {},
   "source": [
    "4、定义损失函数与优化器"
   ]
  },
  {
   "cell_type": "code",
   "execution_count": null,
   "metadata": {},
   "outputs": [],
   "source": [
    "# 模型实例化\n",
    "model = SimpleRNN(input_size=input_size, hidden_size=64, output_size=output_size)\n",
    "\n",
    "# 定义损失函数和优化器\n",
    "criterion = nn.CrossEntropyLoss()  # 多分类交叉熵损失\n",
    "optimizer = optim.Adam(model.parameters(), lr=0.001)"
   ]
  },
  {
   "cell_type": "markdown",
   "metadata": {},
   "source": [
    "5、训练模型"
   ]
  },
  {
   "cell_type": "code",
   "execution_count": null,
   "metadata": {},
   "outputs": [],
   "source": [
    "num_epochs = 10\n",
    "\n",
    "for epoch in range(num_epochs):\n",
    "    model.train()  # 设置模型为训练模式\n",
    "    total_loss = 0\n",
    "    correct = 0\n",
    "    total = 0\n",
    "\n",
    "    for inputs, labels in train_loader:\n",
    "        # 前向传播\n",
    "        outputs = model(inputs)\n",
    "        loss = criterion(outputs, labels)\n",
    "\n",
    "        # 反向传播和优化\n",
    "        optimizer.zero_grad()\n",
    "        loss.backward()\n",
    "        optimizer.step()\n",
    "\n",
    "        total_loss += loss.item()\n",
    "\n",
    "        # 计算准确率\n",
    "        _, predicted = torch.max(outputs, 1)\n",
    "        total += labels.size(0)\n",
    "        correct += (predicted == labels).sum().item()\n",
    "\n",
    "    accuracy = 100 * correct / total\n",
    "    print(f\"Epoch [{epoch+1}/{num_epochs}], Loss: {total_loss / len(train_loader):.4f}, Accuracy: {accuracy:.2f}%\")"
   ]
  },
  {
   "cell_type": "markdown",
   "metadata": {},
   "source": [
    "6、测试模型\n",
    "\n",
    "训练结束后，我们可以在测试集上评估模型的表现。"
   ]
  },
  {
   "cell_type": "code",
   "execution_count": null,
   "metadata": {},
   "outputs": [],
   "source": [
    "# 测试模型\n",
    "model.eval()  # 设置模型为评估模式\n",
    "with torch.no_grad():\n",
    "    total = 0\n",
    "    correct = 0\n",
    "    for inputs, labels in train_loader:\n",
    "        outputs = model(inputs)\n",
    "        _, predicted = torch.max(outputs, 1)\n",
    "        total += labels.size(0)\n",
    "        correct += (predicted == labels).sum().item()\n",
    "\n",
    "    accuracy = 100 * correct / total\n",
    "    print(f\"Test Accuracy: {accuracy:.2f}%\")"
   ]
  },
  {
   "cell_type": "markdown",
   "metadata": {},
   "source": [
    "7、完整代码如下："
   ]
  },
  {
   "cell_type": "code",
   "execution_count": 2,
   "metadata": {},
   "outputs": [
    {
     "name": "stdout",
     "output_type": "stream",
     "text": [
      "Epoch [20/200], Loss: 0.0096\n",
      "Epoch [40/200], Loss: 0.0009\n",
      "Epoch [60/200], Loss: 0.0005\n",
      "Epoch [80/200], Loss: 0.0005\n",
      "Epoch [100/200], Loss: 0.0004\n",
      "Epoch [120/200], Loss: 0.0004\n",
      "Epoch [140/200], Loss: 0.0003\n",
      "Epoch [160/200], Loss: 0.0003\n",
      "Epoch [180/200], Loss: 0.0003\n",
      "Epoch [200/200], Loss: 0.0002\n",
      "Input sequence:  hello\n",
      "Predicted sequence:  elloh\n"
     ]
    }
   ],
   "source": [
    "import torch\n",
    "import torch.nn as nn\n",
    "import torch.optim as optim\n",
    "import matplotlib.pyplot as plt\n",
    "import numpy as np\n",
    "\n",
    "# 数据集：字符序列预测（Hello -> Elloh）\n",
    "char_set = list(\"hello\")\n",
    "char_to_idx = {c: i for i, c in enumerate(char_set)}\n",
    "idx_to_char = {i: c for i, c in enumerate(char_set)}\n",
    "\n",
    "# 数据准备\n",
    "input_str = \"hello\"\n",
    "target_str = \"elloh\"\n",
    "input_data = [char_to_idx[c] for c in input_str]\n",
    "target_data = [char_to_idx[c] for c in target_str]\n",
    "\n",
    "# 转换为独热编码\n",
    "input_one_hot = np.eye(len(char_set))[input_data]\n",
    "\n",
    "# 转换为 PyTorch Tensor\n",
    "inputs = torch.tensor(input_one_hot, dtype=torch.float32)\n",
    "targets = torch.tensor(target_data, dtype=torch.long)\n",
    "\n",
    "# 模型超参数\n",
    "input_size = len(char_set)\n",
    "hidden_size = 8\n",
    "output_size = len(char_set)\n",
    "num_epochs = 200\n",
    "learning_rate = 0.1\n",
    "\n",
    "# 定义 RNN 模型\n",
    "class RNNModel(nn.Module):\n",
    "    def __init__(self, input_size, hidden_size, output_size):\n",
    "        super(RNNModel, self).__init__()\n",
    "        self.rnn = nn.RNN(input_size, hidden_size, batch_first=True)\n",
    "        self.fc = nn.Linear(hidden_size, output_size)\n",
    "\n",
    "    def forward(self, x, hidden):\n",
    "        out, hidden = self.rnn(x, hidden)\n",
    "        out = self.fc(out)  # 应用全连接层\n",
    "        return out, hidden\n",
    "\n",
    "model = RNNModel(input_size, hidden_size, output_size)\n",
    "\n",
    "# 定义损失函数和优化器\n",
    "criterion = nn.CrossEntropyLoss()\n",
    "optimizer = optim.Adam(model.parameters(), lr=learning_rate)\n",
    "\n",
    "# 训练 RNN\n",
    "losses = []\n",
    "hidden = None  # 初始隐藏状态为 None\n",
    "for epoch in range(num_epochs):\n",
    "    optimizer.zero_grad()\n",
    "\n",
    "    # 前向传播\n",
    "    outputs, hidden = model(inputs.unsqueeze(0), hidden)\n",
    "    hidden = hidden.detach()  # 防止梯度爆炸\n",
    "\n",
    "    # 计算损失\n",
    "    loss = criterion(outputs.view(-1, output_size), targets)\n",
    "    loss.backward()\n",
    "    optimizer.step()\n",
    "    losses.append(loss.item())\n",
    "\n",
    "    if (epoch + 1) % 20 == 0:\n",
    "        print(f\"Epoch [{epoch + 1}/{num_epochs}], Loss: {loss.item():.4f}\")\n",
    "\n",
    "# 测试 RNN\n",
    "with torch.no_grad():\n",
    "    test_hidden = None\n",
    "    test_output, _ = model(inputs.unsqueeze(0), test_hidden)\n",
    "    predicted = torch.argmax(test_output, dim=2).squeeze().numpy()\n",
    "\n",
    "    print(\"Input sequence: \", ''.join([idx_to_char[i] for i in input_data]))\n",
    "    print(\"Predicted sequence: \", ''.join([idx_to_char[i] for i in predicted]))"
   ]
  },
  {
   "cell_type": "markdown",
   "metadata": {},
   "source": [
    "代码解析：\n",
    "\n",
    "1. 数据准备：\n",
    "\n",
    "      使用字符序列 hello，并将其转化为独热编码。\n",
    "\n",
    "      目标序列为 elloh，即向右旋转一个字符。\n",
    "\n",
    "2. 模型构建：\n",
    "\n",
    "      使用 torch.nn.RNN 创建循环神经网络。\n",
    "\n",
    "      加入全连接层 torch.nn.Linear 用于映射隐藏状态到输出。\n",
    "\n",
    "3. 训练部分：\n",
    "\n",
    "      每一轮都计算损失并反向传播。\n",
    "\n",
    "      隐藏状态通过 hidden.detach() 防止梯度爆炸。\n",
    "\n",
    "4. 测试部分：\n",
    "\n",
    "      模型输出字符的预测结果。\n",
    "\n",
    "5. 可视化：\n",
    "\n",
    "      用 Matplotlib 绘制训练损失的变化趋势。"
   ]
  },
  {
   "cell_type": "markdown",
   "metadata": {},
   "source": [
    "8、可视化代码："
   ]
  },
  {
   "cell_type": "code",
   "execution_count": 1,
   "metadata": {},
   "outputs": [
    {
     "name": "stdout",
     "output_type": "stream",
     "text": [
      "Epoch [20/200], Loss: 0.0020\n",
      "Epoch [40/200], Loss: 0.0002\n",
      "Epoch [60/200], Loss: 0.0001\n",
      "Epoch [80/200], Loss: 0.0001\n",
      "Epoch [100/200], Loss: 0.0001\n",
      "Epoch [120/200], Loss: 0.0001\n",
      "Epoch [140/200], Loss: 0.0001\n",
      "Epoch [160/200], Loss: 0.0001\n",
      "Epoch [180/200], Loss: 0.0001\n",
      "Epoch [200/200], Loss: 0.0001\n",
      "Input sequence:  hello\n",
      "Predicted sequence:  elloh\n"
     ]
    },
    {
     "data": {
      "image/png": "[encoded data removed]",
      "text/plain": [
       "<Figure size 640x480 with 1 Axes>"
      ]
     },
     "metadata": {},
     "output_type": "display_data"
    }
   ],
   "source": [
    "import torch\n",
    "import torch.nn as nn\n",
    "import torch.optim as optim\n",
    "import matplotlib.pyplot as plt\n",
    "import numpy as np\n",
    "\n",
    "# 数据集：字符序列预测（Hello -> Elloh）\n",
    "char_set = list(\"hello\")\n",
    "char_to_idx = {c: i for i, c in enumerate(char_set)}\n",
    "idx_to_char = {i: c for i, c in enumerate(char_set)}\n",
    "\n",
    "# 数据准备\n",
    "input_str = \"hello\"\n",
    "target_str = \"elloh\"\n",
    "input_data = [char_to_idx[c] for c in input_str]\n",
    "target_data = [char_to_idx[c] for c in target_str]\n",
    "\n",
    "# 转换为独热编码\n",
    "input_one_hot = np.eye(len(char_set))[input_data]\n",
    "\n",
    "# 转换为 PyTorch Tensor\n",
    "inputs = torch.tensor(input_one_hot, dtype=torch.float32)\n",
    "targets = torch.tensor(target_data, dtype=torch.long)\n",
    "\n",
    "# 模型超参数\n",
    "input_size = len(char_set)\n",
    "hidden_size = 8\n",
    "output_size = len(char_set)\n",
    "num_epochs = 200\n",
    "learning_rate = 0.1\n",
    "\n",
    "# 定义 RNN 模型\n",
    "class RNNModel(nn.Module):\n",
    "    def __init__(self, input_size, hidden_size, output_size):\n",
    "        super(RNNModel, self).__init__()\n",
    "        self.rnn = nn.RNN(input_size, hidden_size, batch_first=True)\n",
    "        self.fc = nn.Linear(hidden_size, output_size)\n",
    "\n",
    "    def forward(self, x, hidden):\n",
    "        out, hidden = self.rnn(x, hidden)\n",
    "        out = self.fc(out)  # 应用全连接层\n",
    "        return out, hidden\n",
    "\n",
    "model = RNNModel(input_size, hidden_size, output_size)\n",
    "\n",
    "# 定义损失函数和优化器\n",
    "criterion = nn.CrossEntropyLoss()\n",
    "optimizer = optim.Adam(model.parameters(), lr=learning_rate)\n",
    "\n",
    "# 训练 RNN\n",
    "losses = []\n",
    "hidden = None  # 初始隐藏状态为 None\n",
    "for epoch in range(num_epochs):\n",
    "    optimizer.zero_grad()\n",
    "\n",
    "    # 前向传播\n",
    "    outputs, hidden = model(inputs.unsqueeze(0), hidden)\n",
    "    hidden = hidden.detach()  # 防止梯度爆炸\n",
    "\n",
    "    # 计算损失\n",
    "    loss = criterion(outputs.view(-1, output_size), targets)\n",
    "    loss.backward()\n",
    "    optimizer.step()\n",
    "    losses.append(loss.item())\n",
    "\n",
    "    if (epoch + 1) % 20 == 0:\n",
    "        print(f\"Epoch [{epoch + 1}/{num_epochs}], Loss: {loss.item():.4f}\")\n",
    "\n",
    "# 测试 RNN\n",
    "with torch.no_grad():\n",
    "    test_hidden = None\n",
    "    test_output, _ = model(inputs.unsqueeze(0), test_hidden)\n",
    "    predicted = torch.argmax(test_output, dim=2).squeeze().numpy()\n",
    "\n",
    "    print(\"Input sequence: \", ''.join([idx_to_char[i] for i in input_data]))\n",
    "    print(\"Predicted sequence: \", ''.join([idx_to_char[i] for i in predicted]))\n",
    "\n",
    "# 可视化损失\n",
    "plt.plot(losses, label=\"Training Loss\")\n",
    "plt.xlabel(\"Epoch\")\n",
    "plt.ylabel(\"Loss\")\n",
    "plt.title(\"RNN Training Loss Over Epochs\")\n",
    "plt.legend()\n",
    "plt.show()"
   ]
  }
 ],
 "metadata": {
  "kernelspec": {
   "display_name": "dl",
   "language": "python",
   "name": "python3"
  },
  "language_info": {
   "codemirror_mode": {
    "name": "ipython",
    "version": 3
   },
   "file_extension": ".py",
   "mimetype": "text/x-python",
   "name": "python",
   "nbconvert_exporter": "python",
   "pygments_lexer": "ipython3",
   "version": "3.8.18"
  }
 },
 "nbformat": 4,
 "nbformat_minor": 2
}
