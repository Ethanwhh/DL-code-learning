{
 "cells": [
  {
   "cell_type": "markdown",
   "id": "93df378b-9f9d-410e-a6a6-4f0683e78406",
   "metadata": {},
   "source": [
    "#  PyTorch 安装"
   ]
  },
  {
   "cell_type": "markdown",
   "id": "826b9a60-fe0a-4793-9487-645a3f8dd437",
   "metadata": {},
   "source": [
    "PyTorch 是一个流行的深度学习框架，支持 CPU 和 GPU 计算。"
   ]
  },
  {
   "cell_type": "markdown",
   "id": "94ba884e-770b-488d-b29d-b6d010101626",
   "metadata": {},
   "source": [
    "检查 Python 和 pip 版本\n",
    "\n",
    "首先，确保你已安装 Python 和 pip，并且它们的版本满足 PyTorch 的要求。\n",
    "\n",
    "最新版本的 PyTorch 需要 Python 3.9 及更高版本。"
   ]
  },
  {
   "cell_type": "code",
   "execution_count": 2,
   "id": "9e74454e-5e9e-4912-b97e-87688df9eed9",
   "metadata": {
    "ExecutionIndicator": {
     "show": true
    },
    "execution": {
     "iopub.execute_input": "2024-12-26T02:30:02.216703Z",
     "iopub.status.busy": "2024-12-26T02:30:02.216390Z",
     "iopub.status.idle": "2024-12-26T02:30:02.774820Z",
     "shell.execute_reply": "2024-12-26T02:30:02.774268Z",
     "shell.execute_reply.started": "2024-12-26T02:30:02.216685Z"
    },
    "tags": []
   },
   "outputs": [
    {
     "name": "stdout",
     "output_type": "stream",
     "text": [
      "Python 3.10.14\n",
      "pip 23.3.2 from /usr/local/lib/python3.10/site-packages/pip (python 3.10)\n"
     ]
    }
   ],
   "source": [
    "!python --version\n",
    "!pip --version"
   ]
  },
  {
   "cell_type": "markdown",
   "id": "1759e23a-06ce-4653-9f36-1a54f3a9bcbc",
   "metadata": {},
   "source": [
    "PyTorch 官方提供了几种安装方法，可以通过 pip 或 conda 进行安装。"
   ]
  },
  {
   "cell_type": "markdown",
   "id": "b6b91ae3-8874-450d-916c-f3f51469efdb",
   "metadata": {},
   "source": [
    "使用 pip 安装"
   ]
  },
  {
   "cell_type": "code",
   "execution_count": null,
   "id": "c67e2352-fdb2-48dc-ba3d-c03f6252470c",
   "metadata": {
    "ExecutionIndicator": {
     "show": true
    },
    "tags": []
   },
   "outputs": [],
   "source": [
    "!pip3 install torch torchvision"
   ]
  },
  {
   "cell_type": "markdown",
   "id": "c1ec6f9f-eeb1-4d56-8ce5-1a076e09a7c8",
   "metadata": {},
   "source": [
    "使用 conda 安装\n",
    "\n",
    "如果你使用 Anaconda 或 Miniconda 管理 Python 环境，使用 conda 安装 PyTorch 可能会更加简单和高效。"
   ]
  },
  {
   "cell_type": "code",
   "execution_count": null,
   "id": "62d55834-1c52-480a-bba9-18b0dfc446e0",
   "metadata": {},
   "outputs": [],
   "source": [
    "!conda install pytorch torchvision -c pytorch"
   ]
  },
  {
   "cell_type": "markdown",
   "id": "0d0f720e-f646-46af-85ab-469b51e35bf8",
   "metadata": {},
   "source": [
    "通过 PyTorch 官网安装"
   ]
  },
  {
   "cell_type": "markdown",
   "id": "37c35b96-ce2d-49fe-8f1d-05be528aceeb",
   "metadata": {},
   "source": [
    "访问 PyTorch 的官方网站 https://pytorch.org/get-started/locally/, 网站提供了一个方便的工具，可以根据你的系统配置（操作系统、包管理器、Python版本以及CUDA版本）推荐安装命令。"
   ]
  },
  {
   "cell_type": "markdown",
   "id": "cf8ace91-2edb-4349-bd6f-2d20d2304d0f",
   "metadata": {},
   "source": [
    "从源代码安装\n",
    "\n",
    "如果你需要从源代码安装PyTorch，或者想要尝试最新的开发版本，你可以使用以下命令："
   ]
  },
  {
   "cell_type": "code",
   "execution_count": null,
   "id": "331e6e2f-dee6-4b69-97ce-49994b0a7aff",
   "metadata": {},
   "outputs": [],
   "source": [
    "!git clone --recursive https://github.com/pytorch/pytorch\n",
    "!cd pytorch\n",
    "!python setup.py install"
   ]
  },
  {
   "cell_type": "markdown",
   "id": "f26256dd-fadc-4643-9424-d0171aa667b8",
   "metadata": {},
   "source": [
    "这将从 GitHub 克隆 PyTorch 的源代码，并使用 setup.py 进行安装。"
   ]
  },
  {
   "cell_type": "markdown",
   "id": "1b80c62c-9273-4969-a671-173f579aed58",
   "metadata": {},
   "source": [
    "验证安装\n",
    "\n",
    "为了确保 PyTorch 已正确安装，我们可以通过执行以下 PyTorch 代码来验证是否安装成功："
   ]
  },
  {
   "cell_type": "code",
   "execution_count": 5,
   "id": "0a06fe9f-ae32-4801-bba6-bafbced8bce1",
   "metadata": {
    "execution": {
     "iopub.execute_input": "2024-12-26T02:39:20.813800Z",
     "iopub.status.busy": "2024-12-26T02:39:20.813457Z",
     "iopub.status.idle": "2024-12-26T02:39:21.767429Z",
     "shell.execute_reply": "2024-12-26T02:39:21.766916Z",
     "shell.execute_reply.started": "2024-12-26T02:39:20.813780Z"
    },
    "tags": []
   },
   "outputs": [
    {
     "name": "stdout",
     "output_type": "stream",
     "text": [
      "2.3.1+cpu\n",
      "False\n"
     ]
    }
   ],
   "source": [
    "import torch\n",
    "\n",
    "# 当前安装的 PyTorch 库的版本\n",
    "print(torch.__version__)\n",
    "# 检查 CUDA 是否可用，即你的系统有 NVIDIA 的 GPU\n",
    "print(torch.cuda.is_available())"
   ]
  },
  {
   "cell_type": "markdown",
   "id": "3ec56432-83fe-4ef6-a9d3-68f8ce122e92",
   "metadata": {},
   "source": [
    "一个简单的实例，构建一个随机初始化的张量："
   ]
  },
  {
   "cell_type": "code",
   "execution_count": 6,
   "id": "98c8f540-1368-4310-9da3-e45863b69e70",
   "metadata": {
    "ExecutionIndicator": {
     "show": false
    },
    "execution": {
     "iopub.execute_input": "2024-12-26T02:39:57.371140Z",
     "iopub.status.busy": "2024-12-26T02:39:57.370728Z",
     "iopub.status.idle": "2024-12-26T02:39:57.388261Z",
     "shell.execute_reply": "2024-12-26T02:39:57.387797Z",
     "shell.execute_reply.started": "2024-12-26T02:39:57.371117Z"
    },
    "tags": []
   },
   "outputs": [
    {
     "name": "stdout",
     "output_type": "stream",
     "text": [
      "tensor([[0.0566, 0.2321, 0.4030],\n",
      "        [0.8432, 0.3339, 0.0742],\n",
      "        [0.3997, 0.0132, 0.0875],\n",
      "        [0.5982, 0.0620, 0.0754],\n",
      "        [0.1476, 0.0268, 0.6038]])\n"
     ]
    }
   ],
   "source": [
    "!import torch\n",
    "x = torch.rand(5, 3)\n",
    "print(x)"
   ]
  }
 ],
 "metadata": {
  "kernelspec": {
   "display_name": "Python 3 (ipykernel)",
   "language": "python",
   "name": "python3"
  },
  "language_info": {
   "codemirror_mode": {
    "name": "ipython",
    "version": 3
   },
   "file_extension": ".py",
   "mimetype": "text/x-python",
   "name": "python",
   "nbconvert_exporter": "python",
   "pygments_lexer": "ipython3",
   "version": "3.10.14"
  }
 },
 "nbformat": 4,
 "nbformat_minor": 5
}
