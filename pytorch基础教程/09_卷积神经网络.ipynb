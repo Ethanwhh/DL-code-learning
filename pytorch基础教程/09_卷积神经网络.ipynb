{
 "cells": [
  {
   "cell_type": "markdown",
   "metadata": {},
   "source": [
    "# PyTorch 卷积神经网络\n",
    "\n",
    "PyTorch 卷积神经网络 (Convolutional Neural Networks, CNN) 是一类专门用于处理具有网格状拓扑结构数据（如图像）的深度学习模型。\n",
    "\n",
    "CNN 是计算机视觉任务（如图像分类、目标检测和分割）的核心技术。"
   ]
  },
  {
   "cell_type": "markdown",
   "metadata": {},
   "source": [
    "输入图像（Input Image）：网络接收的原始图像数据。\n",
    "\n",
    "卷积（Convolution）：使用卷积核（Kernel）在输入图像上滑动，提取特征，生成特征图（Feature Maps）。\n",
    "\n",
    "池化（Pooling）：通常在卷积层之后，通过最大池化或平均池化减少特征图的尺寸，同时保留重要特征，生成池化特征图（Pooled Feature Maps）。\n",
    "\n",
    "特征提取（Feature Extraction）：通过多个卷积和池化层的组合，逐步提取图像的高级特征。\n",
    "\n",
    "展平层（Flatten Layer）：将多维的特征图转换为一维向量，以便输入到全连接层。\n",
    "\n",
    "全连接层（Fully Connected Layer）：类似于传统的神经网络层，用于将提取的特征映射到输出类别。\n",
    "\n",
    "分类（Classification）：网络的输出层，根据全连接层的输出进行分类。\n",
    "\n",
    "概率分布（Probabilistic Distribution）：输出层给出每个类别的概率，表示输入图像属于各个类别的可能性。"
   ]
  },
  {
   "cell_type": "markdown",
   "metadata": {},
   "source": [
    "## 卷积神经网络的基本结构\n",
    "\n",
    "1、**输入层（Input Layer）**\n",
    "\n",
    "接收原始图像数据，图像通常被表示为一个三维数组，其中两个维度代表图像的宽度和高度，第三个维度代表颜色通道（例如，RGB图像有三个通道）。\n",
    "\n",
    "2、**卷积层（Convolutional Layer）**\n",
    "\n",
    "用卷积核提取局部特征，如边缘、纹理等。\n",
    "\n",
    "应用一组可学习的滤波器（或卷积核）在输入图像上进行卷积操作，以提取局部特征。\n",
    "\n",
    "每个滤波器在输入图像上滑动，生成一个特征图（Feature Map），表示滤波器在不同位置的激活。\n",
    "\n",
    "卷积层可以有多个滤波器，每个滤波器生成一个特征图，所有特征图组成一个特征图集合。\n",
    "\n",
    "3、**激活函数（Activation Function）**\n",
    "\n",
    "通常在卷积层之后应用非线性激活函数，如 ReLU（Rectified Linear Unit），以引入非线性特性，使网络能够学习更复杂的模式。\n",
    "\n",
    "ReLU 函数定义为 ：f(x)=max(0,x)，即如果输入小于 0 则输出 0，否则输出输入值。\n",
    "\n",
    "4、**池化层（Pooling Layer）**\n",
    "\n",
    "用于降低特征图的空间维度，减少计算量和参数数量，同时保留最重要的特征信息。\n",
    "\n",
    "最常见的池化操作是最大池化（Max Pooling）和平均池化（Average Pooling）。\n",
    "\n",
    "最大池化选择区域内的最大值，而平均池化计算区域内的平均值。\n",
    "\n",
    "5、**归一化层（Normalization Layer，可选）**\n",
    "\n",
    "例如，局部响应归一化（Local Response Normalization, LRN）或批归一化（Batch Normalization）。\n",
    "\n",
    "这些层有助于加速训练过程，提高模型的稳定性。\n",
    "\n",
    "6、**全连接层（Fully Connected Layer）**\n",
    "\n",
    "在 CNN 的末端，将前面层提取的特征图展平（Flatten）成一维向量，然后输入到全连接层。\n",
    "\n",
    "全连接层的每个神经元都与前一层的所有神经元相连，用于综合特征并进行最终的分类或回归。\n",
    "\n",
    "7、**输出层（Output Layer）**\n",
    "\n",
    "根据任务的不同，输出层可以有不同的形式。\n",
    "\n",
    "对于分类任务，通常使用 Softmax 函数将输出转换为概率分布，表示输入属于各个类别的概率。\n",
    "\n",
    "8、**损失函数（Loss Function）**\n",
    "\n",
    "用于衡量模型预测与真实标签之间的差异。\n",
    "\n",
    "常见的损失函数包括交叉熵损失（Cross-Entropy Loss）用于多分类任务，均方误差（Mean Squared Error, MSE）用于回归任务。\n",
    "\n",
    "9、**优化器（Optimizer）**\n",
    "\n",
    "用于根据损失函数的梯度更新网络的权重。常见的优化器包括随机梯度下降（SGD）、Adam、RMSprop等。\n",
    "\n",
    "10、**正则化（Regularization，可选）**\n",
    "\n",
    "包括 Dropout、L1/L2 正则化等技术，用于防止模型过拟合。\n",
    "\n",
    "这些层可以堆叠形成更深的网络结构，以提高模型的学习能力。\n",
    "\n",
    "CNN 的深度和复杂性可以根据任务的需求进行调整。"
   ]
  },
  {
   "cell_type": "markdown",
   "metadata": {},
   "source": [
    "## PyTorch 实现一个 CNN 实例\n",
    "\n",
    "以下示例展示如何用 PyTorch 构建一个简单的 CNN 模型，用于 MNIST 数据集的数字分类。\n",
    "\n",
    "主要步骤：\n",
    "\n",
    "- 数据加载与预处理：使用 torchvision 加载和预处理 MNIST 数据。\n",
    "\n",
    "- 模型构建：定义卷积层、池化层和全连接层。\n",
    "\n",
    "- 训练：通过损失函数和优化器进行模型训练。\n",
    "\n",
    "- 评估：测试集上计算模型的准确率。\n",
    "\n",
    "- 可视化：展示部分测试样本及其预测结果。"
   ]
  },
  {
   "cell_type": "markdown",
   "metadata": {},
   "source": [
    "1、导入必要库"
   ]
  },
  {
   "cell_type": "code",
   "execution_count": null,
   "metadata": {
    "vscode": {
     "languageId": "plaintext"
    }
   },
   "outputs": [],
   "source": [
    "import torch\n",
    "import torch.nn as nn\n",
    "import torch.nn.functional as F\n",
    "import torch.optim as optim"
   ]
  },
  {
   "cell_type": "markdown",
   "metadata": {},
   "source": [
    "2、数据加载\n",
    "\n",
    "使用 torchvision 提供的 MNIST 数据集，加载和预处理数据。"
   ]
  },
  {
   "cell_type": "code",
   "execution_count": null,
   "metadata": {
    "vscode": {
     "languageId": "plaintext"
    }
   },
   "outputs": [],
   "source": [
    "transform = transforms.Compose([\n",
    "    transforms.ToTensor(),  # 转为张量\n",
    "    transforms.Normalize((0.5,), (0.5,))  # 归一化到 [-1, 1]\n",
    "])\n",
    "\n",
    "# 加载 MNIST 数据集\n",
    "train_dataset = datasets.MNIST(root='./data', train=True, transform=transform, download=True)\n",
    "test_dataset = datasets.MNIST(root='./data', train=False, transform=transform, download=True)\n",
    "\n",
    "train_loader = torch.utils.data.DataLoader(dataset=train_dataset, batch_size=64, shuffle=True)\n",
    "test_loader = torch.utils.data.DataLoader(dataset=test_dataset, batch_size=64, shuffle=False)"
   ]
  },
  {
   "cell_type": "markdown",
   "metadata": {},
   "source": [
    "3、定义 CNN 模型\n",
    "\n",
    "使用 nn.Module 构建一个 CNN。"
   ]
  },
  {
   "cell_type": "markdown",
   "metadata": {
    "vscode": {
     "languageId": "plaintext"
    }
   },
   "source": [
    "class SimpleCNN(nn.Module):\n",
    "    def __init__(self):\n",
    "        super(SimpleCNN, self).__init__()\n",
    "        # 定义卷积层：输入1通道，输出32通道，卷积核大小3x3\n",
    "        self.conv1 = nn.Conv2d(1, 32, kernel_size=3, stride=1, padding=1)\n",
    "        # 定义卷积层：输入32通道，输出64通道\n",
    "        self.conv2 = nn.Conv2d(32, 64, kernel_size=3, stride=1, padding=1)\n",
    "        # 定义全连接层\n",
    "        self.fc1 = nn.Linear(64 * 7 * 7, 128)  # 输入大小 = 特征图大小 * 通道数\n",
    "        self.fc2 = nn.Linear(128, 10)  # 10 个类别\n",
    "\n",
    "    def forward(self, x):\n",
    "        x = F.relu(self.conv1(x))  # 第一层卷积 + ReLU\n",
    "        x = F.max_pool2d(x, 2)     # 最大池化\n",
    "        x = F.relu(self.conv2(x))  # 第二层卷积 + ReLU\n",
    "        x = F.max_pool2d(x, 2)     # 最大池化\n",
    "        x = x.view(-1, 64 * 7 * 7) # 展平操作\n",
    "        x = F.relu(self.fc1(x))    # 全连接层 + ReLU\n",
    "        x = self.fc2(x)            # 全连接层输出\n",
    "        return x\n",
    "\n",
    "# 创建模型实例\n",
    "model = SimpleCNN()"
   ]
  },
  {
   "cell_type": "markdown",
   "metadata": {},
   "source": [
    "4、定义损失函数与优化器\n",
    "\n",
    "使用交叉熵损失和随机梯度下降优化器。"
   ]
  },
  {
   "cell_type": "code",
   "execution_count": null,
   "metadata": {
    "vscode": {
     "languageId": "plaintext"
    }
   },
   "outputs": [],
   "source": [
    "criterion = nn.CrossEntropyLoss()  # 多分类交叉熵损失\n",
    "optimizer = optim.SGD(model.parameters(), lr=0.01, momentum=0.9)  # 学习率和动量"
   ]
  },
  {
   "cell_type": "markdown",
   "metadata": {},
   "source": [
    "5、训练模型\n",
    "\n",
    "训练模型 5 个 epoch，每个 epoch 后输出训练损失。"
   ]
  },
  {
   "cell_type": "code",
   "execution_count": null,
   "metadata": {
    "vscode": {
     "languageId": "plaintext"
    }
   },
   "outputs": [],
   "source": [
    "num_epochs = 5\n",
    "model.train()  # 设为训练模式\n",
    "\n",
    "for epoch in range(num_epochs):\n",
    "    total_loss = 0\n",
    "    for images, labels in train_loader:\n",
    "        # 前向传播\n",
    "        outputs = model(images)\n",
    "        loss = criterion(outputs, labels)\n",
    "        \n",
    "        # 反向传播\n",
    "        optimizer.zero_grad()\n",
    "        loss.backward()\n",
    "        optimizer.step()\n",
    "\n",
    "        total_loss += loss.item()\n",
    "    print(f\"Epoch [{epoch+1}/{num_epochs}], Loss: {total_loss / len(train_loader):.4f}\")"
   ]
  },
  {
   "cell_type": "markdown",
   "metadata": {},
   "source": [
    "6、测试模型\n",
    "\n",
    "在测试集上评估模型的准确率。"
   ]
  },
  {
   "cell_type": "code",
   "execution_count": null,
   "metadata": {
    "vscode": {
     "languageId": "plaintext"
    }
   },
   "outputs": [],
   "source": [
    "model.eval()  # 设置为评估模式\n",
    "correct = 0\n",
    "total = 0\n",
    "\n",
    "with torch.no_grad():  # 评估时不需要计算梯度\n",
    "    for images, labels in test_loader:\n",
    "        outputs = model(images)\n",
    "        _, predicted = torch.max(outputs, 1)  # 预测类别\n",
    "        total += labels.size(0)\n",
    "        correct += (predicted == labels).sum().item()\n",
    "\n",
    "accuracy = 100 * correct / total\n",
    "print(f\"Test Accuracy: {accuracy:.2f}%\")"
   ]
  },
  {
   "cell_type": "markdown",
   "metadata": {},
   "source": [
    "7、完整代码\n",
    "\n",
    "完整代码如下："
   ]
  },
  {
   "cell_type": "code",
   "execution_count": null,
   "metadata": {
    "vscode": {
     "languageId": "plaintext"
    }
   },
   "outputs": [],
   "source": [
    "import torch\n",
    "import torch.nn as nn\n",
    "import torch.nn.functional as F\n",
    "import torch.optim as optim\n",
    "from torchvision import datasets, transforms\n",
    "\n",
    "\n",
    "# 1. 数据加载与预处理\n",
    "transform = transforms.Compose([\n",
    "    transforms.ToTensor(),  # 转为张量\n",
    "    transforms.Normalize((0.5,), (0.5,))  # 归一化到 [-1, 1]\n",
    "])\n",
    "\n",
    "# 加载 MNIST 数据集\n",
    "train_dataset = datasets.MNIST(root='./data', train=True, transform=transform, download=True)\n",
    "test_dataset = datasets.MNIST(root='./data', train=False, transform=transform, download=True)\n",
    "\n",
    "train_loader = torch.utils.data.DataLoader(dataset=train_dataset, batch_size=64, shuffle=True)\n",
    "test_loader = torch.utils.data.DataLoader(dataset=test_dataset, batch_size=64, shuffle=False)\n",
    "\n",
    "# 2. 定义 CNN 模型\n",
    "class SimpleCNN(nn.Module):\n",
    "    def __init__(self):\n",
    "        super(SimpleCNN, self).__init__()\n",
    "        # 定义卷积层\n",
    "        self.conv1 = nn.Conv2d(1, 32, kernel_size=3, stride=1, padding=1)  # 输入1通道，输出32通道\n",
    "        self.conv2 = nn.Conv2d(32, 64, kernel_size=3, stride=1, padding=1)  # 输入32通道，输出64通道\n",
    "        # 定义全连接层\n",
    "        self.fc1 = nn.Linear(64 * 7 * 7, 128)  # 展平后输入到全连接层\n",
    "        self.fc2 = nn.Linear(128, 10)  # 10 个类别\n",
    "\n",
    "    def forward(self, x):\n",
    "        x = F.relu(self.conv1(x))  # 第一层卷积 + ReLU\n",
    "        x = F.max_pool2d(x, 2)     # 最大池化\n",
    "        x = F.relu(self.conv2(x))  # 第二层卷积 + ReLU\n",
    "        x = F.max_pool2d(x, 2)     # 最大池化\n",
    "        x = x.view(-1, 64 * 7 * 7) # 展平\n",
    "        x = F.relu(self.fc1(x))    # 全连接层 + ReLU\n",
    "        x = self.fc2(x)            # 最后一层输出\n",
    "        return x\n",
    "\n",
    "# 创建模型实例\n",
    "model = SimpleCNN()\n",
    "\n",
    "# 3. 定义损失函数与优化器\n",
    "criterion = nn.CrossEntropyLoss()  # 多分类交叉熵损失\n",
    "optimizer = optim.SGD(model.parameters(), lr=0.01, momentum=0.9)\n",
    "\n",
    "# 4. 模型训练\n",
    "num_epochs = 5\n",
    "model.train()  # 设置模型为训练模式\n",
    "\n",
    "for epoch in range(num_epochs):\n",
    "    total_loss = 0\n",
    "    for images, labels in train_loader:\n",
    "        outputs = model(images)  # 前向传播\n",
    "        loss = criterion(outputs, labels)  # 计算损失\n",
    "\n",
    "        optimizer.zero_grad()  # 清空梯度\n",
    "        loss.backward()  # 反向传播\n",
    "        optimizer.step()  # 更新参数\n",
    "\n",
    "        total_loss += loss.item()\n",
    "\n",
    "    print(f\"Epoch [{epoch+1}/{num_epochs}], Loss: {total_loss / len(train_loader):.4f}\")\n",
    "\n",
    "# 5. 模型测试\n",
    "model.eval()  # 设置模型为评估模式\n",
    "correct = 0\n",
    "total = 0\n",
    "\n",
    "with torch.no_grad():  # 关闭梯度计算\n",
    "    for images, labels in test_loader:\n",
    "        outputs = model(images)\n",
    "        _, predicted = torch.max(outputs, 1)\n",
    "        total += labels.size(0)\n",
    "        correct += (predicted == labels).sum().item()\n",
    "\n",
    "accuracy = 100 * correct / total\n",
    "print(f\"Test Accuracy: {accuracy:.2f}%\")"
   ]
  },
  {
   "cell_type": "markdown",
   "metadata": {},
   "source": [
    "8、可视化结果\n",
    "\n",
    "我们可以在测试数据中可视化一些样本及其预测结果。"
   ]
  },
  {
   "cell_type": "code",
   "execution_count": null,
   "metadata": {
    "vscode": {
     "languageId": "plaintext"
    }
   },
   "outputs": [],
   "source": [
    "import torch\n",
    "import torch.nn as nn\n",
    "import torch.nn.functional as F\n",
    "import torch.optim as optim\n",
    "from torchvision import datasets, transforms\n",
    "import matplotlib.pyplot as plt\n",
    "\n",
    "# 1. 数据加载与预处理\n",
    "transform = transforms.Compose([\n",
    "    transforms.ToTensor(),  # 转为张量\n",
    "    transforms.Normalize((0.5,), (0.5,))  # 归一化到 [-1, 1]\n",
    "])\n",
    "\n",
    "# 加载 MNIST 数据集\n",
    "train_dataset = datasets.MNIST(root='./data', train=True, transform=transform, download=True)\n",
    "test_dataset = datasets.MNIST(root='./data', train=False, transform=transform, download=True)\n",
    "\n",
    "train_loader = torch.utils.data.DataLoader(dataset=train_dataset, batch_size=64, shuffle=True)\n",
    "test_loader = torch.utils.data.DataLoader(dataset=test_dataset, batch_size=64, shuffle=False)\n",
    "\n",
    "# 2. 定义 CNN 模型\n",
    "class SimpleCNN(nn.Module):\n",
    "    def __init__(self):\n",
    "        super(SimpleCNN, self).__init__()\n",
    "        # 定义卷积层\n",
    "        self.conv1 = nn.Conv2d(1, 32, kernel_size=3, stride=1, padding=1)  # 输入1通道，输出32通道\n",
    "        self.conv2 = nn.Conv2d(32, 64, kernel_size=3, stride=1, padding=1)  # 输入32通道，输出64通道\n",
    "        # 定义全连接层\n",
    "        self.fc1 = nn.Linear(64 * 7 * 7, 128)  # 展平后输入到全连接层\n",
    "        self.fc2 = nn.Linear(128, 10)  # 10 个类别\n",
    "\n",
    "    def forward(self, x):\n",
    "        x = F.relu(self.conv1(x))  # 第一层卷积 + ReLU\n",
    "        x = F.max_pool2d(x, 2)     # 最大池化\n",
    "        x = F.relu(self.conv2(x))  # 第二层卷积 + ReLU\n",
    "        x = F.max_pool2d(x, 2)     # 最大池化\n",
    "        x = x.view(-1, 64 * 7 * 7) # 展平\n",
    "        x = F.relu(self.fc1(x))    # 全连接层 + ReLU\n",
    "        x = self.fc2(x)            # 最后一层输出\n",
    "        return x\n",
    "\n",
    "# 创建模型实例\n",
    "model = SimpleCNN()\n",
    "\n",
    "# 3. 定义损失函数与优化器\n",
    "criterion = nn.CrossEntropyLoss()  # 多分类交叉熵损失\n",
    "optimizer = optim.SGD(model.parameters(), lr=0.01, momentum=0.9)\n",
    "\n",
    "# 4. 模型训练\n",
    "num_epochs = 5\n",
    "model.train()  # 设置模型为训练模式\n",
    "\n",
    "for epoch in range(num_epochs):\n",
    "    total_loss = 0\n",
    "    for images, labels in train_loader:\n",
    "        outputs = model(images)  # 前向传播\n",
    "        loss = criterion(outputs, labels)  # 计算损失\n",
    "\n",
    "        optimizer.zero_grad()  # 清空梯度\n",
    "        loss.backward()  # 反向传播\n",
    "        optimizer.step()  # 更新参数\n",
    "\n",
    "        total_loss += loss.item()\n",
    "\n",
    "    print(f\"Epoch [{epoch+1}/{num_epochs}], Loss: {total_loss / len(train_loader):.4f}\")\n",
    "\n",
    "# 5. 模型测试\n",
    "model.eval()  # 设置模型为评估模式\n",
    "correct = 0\n",
    "total = 0\n",
    "\n",
    "with torch.no_grad():  # 关闭梯度计算\n",
    "    for images, labels in test_loader:\n",
    "        outputs = model(images)\n",
    "        _, predicted = torch.max(outputs, 1)\n",
    "        total += labels.size(0)\n",
    "        correct += (predicted == labels).sum().item()\n",
    "\n",
    "accuracy = 100 * correct / total\n",
    "print(f\"Test Accuracy: {accuracy:.2f}%\")\n",
    "\n",
    "# 6. 可视化测试结果\n",
    "dataiter = iter(test_loader)\n",
    "images, labels = next(dataiter)\n",
    "outputs = model(images)\n",
    "_, predictions = torch.max(outputs, 1)\n",
    "\n",
    "fig, axes = plt.subplots(1, 6, figsize=(12, 4))\n",
    "for i in range(6):\n",
    "    axes[i].imshow(images[i][0], cmap='gray')\n",
    "    axes[i].set_title(f\"Label: {labels[i]}\\nPred: {predictions[i]}\")\n",
    "    axes[i].axis('off')\n",
    "plt.show()"
   ]
  }
 ],
 "metadata": {
  "language_info": {
   "name": "python"
  }
 },
 "nbformat": 4,
 "nbformat_minor": 2
}
