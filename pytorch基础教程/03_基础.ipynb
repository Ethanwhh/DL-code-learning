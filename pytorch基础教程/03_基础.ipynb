{
 "cells": [
  {
   "cell_type": "markdown",
   "id": "059867e7-99fe-4fc1-9c75-d989885790f9",
   "metadata": {},
   "source": [
    "# PyTorch 基础"
   ]
  },
  {
   "cell_type": "markdown",
   "id": "9a9eb1bd-6213-43bc-9c37-14c838164ca6",
   "metadata": {},
   "source": [
    "PyTorch 是一个开源的深度学习框架，以其灵活性和动态计算图而广受欢迎。\n",
    "\n",
    "PyTorch 主要有以下几个基础概念：张量（Tensor）、自动求导（Autograd）、神经网络模块（nn.Module）、优化器（optim）等。\n",
    "\n",
    "- 张量（Tensor）：PyTorch 的核心数据结构，支持多维数组，并可以在 CPU 或 GPU 上进行加速计算。\n",
    "\n",
    "- 自动求导（Autograd）：PyTorch 提供了自动求导功能，可以轻松计算模型的梯度，便于进行反向传播和优化。\n",
    "\n",
    "- 神经网络（nn.Module）：PyTorch 提供了简单且强大的 API 来构建神经网络模型，可以方便地进行前向传播和模型定义。\n",
    "\n",
    "- 优化器（Optimizers）：使用优化器（如 Adam、SGD 等）来更新模型的参数，使得损失最小化。\n",
    "\n",
    "- 设备（Device）：可以将模型和张量移动到 GPU 上以加速计算。"
   ]
  },
  {
   "cell_type": "markdown",
   "id": "68ecdbcd-a91b-4f6e-a847-52a4350b39c2",
   "metadata": {},
   "source": [
    "## 张量（Tensor）\n",
    "\n",
    "张量（Tensor）是 PyTorch 中的核心数据结构，用于存储和操作多维数组。\n",
    "\n",
    "张量可以视为一个多维数组，支持加速计算的操作。\n",
    "\n",
    "在 PyTorch 中，张量的概念类似于 NumPy 中的数组，但是 PyTorch 的张量可以运行在不同的设备上，比如 CPU 和 GPU，这使得它们非常适合于进行大规模并行计算，特别是在深度学习领域。\n",
    "\n",
    "- 维度（Dimensionality）：张量的维度指的是数据的多维数组结构。例如，一个标量（0维张量）是一个单独的数字，一个向量（1维张量）是一个一维数组，一个矩阵（2维张量）是一个二维数组，以此类推。\n",
    "\n",
    "- 形状（Shape）：张量的形状是指每个维度上的大小。例如，一个形状为(3, 4)的张量意味着它有3行4列。\n",
    "\n",
    "- 数据类型（Dtype）：张量中的数据类型定义了存储每个元素所需的内存大小和解释方式。PyTorch支持多种数据类型，包括整数型（如torch.int8、torch.int32）、浮点型（如torch.float32、torch.float64）和布尔型（torch.bool）。"
   ]
  },
  {
   "cell_type": "markdown",
   "id": "9e37a178-438e-44ab-8ab6-88f230c53d54",
   "metadata": {},
   "source": [
    "张量创建："
   ]
  },
  {
   "cell_type": "code",
   "execution_count": 1,
   "id": "01de1c62-6fa8-49ea-945b-1bcd2deaf857",
   "metadata": {
    "execution": {
     "iopub.execute_input": "2024-12-26T14:52:55.453060Z",
     "iopub.status.busy": "2024-12-26T14:52:55.452731Z",
     "iopub.status.idle": "2024-12-26T14:52:56.433598Z",
     "shell.execute_reply": "2024-12-26T14:52:56.433108Z",
     "shell.execute_reply.started": "2024-12-26T14:52:55.453038Z"
    },
    "tags": []
   },
   "outputs": [
    {
     "name": "stdout",
     "output_type": "stream",
     "text": [
      "tensor([[0., 0., 0.],\n",
      "        [0., 0., 0.]])\n",
      "tensor([[1., 1., 1.],\n",
      "        [1., 1., 1.]])\n",
      "tensor([[-1.3570, -0.6656, -0.6975],\n",
      "        [-2.0436, -0.1934,  0.0479]])\n",
      "tensor([[1, 2],\n",
      "        [3, 4]])\n",
      "tensor([[ 0.1968,  0.3930,  1.1616],\n",
      "        [-0.7914,  2.0525,  0.5387]])\n"
     ]
    }
   ],
   "source": [
    "import torch\n",
    "\n",
    "# 创建一个 2x3 的全 0 张量\n",
    "a = torch.zeros(2, 3)\n",
    "print(a)\n",
    "\n",
    "# 创建一个 2x3 的全 1 张量\n",
    "b = torch.ones(2, 3)\n",
    "print(b)\n",
    "\n",
    "# 创建一个 2x3 的随机数张量\n",
    "c = torch.randn(2, 3)\n",
    "print(c)\n",
    "\n",
    "# 从 NumPy 数组创建张量\n",
    "import numpy as np\n",
    "numpy_array = np.array([[1, 2], [3, 4]])\n",
    "tensor_from_numpy = torch.from_numpy(numpy_array)\n",
    "print(tensor_from_numpy)\n",
    "\n",
    "# 在指定设备（CPU/GPU）上创建张量\n",
    "device = torch.device(\"cuda\" if torch.cuda.is_available() else \"cpu\")\n",
    "d = torch.randn(2, 3, device=device)\n",
    "print(d)"
   ]
  },
  {
   "cell_type": "markdown",
   "id": "bc6b1869-b499-455c-bdb9-536de9feb041",
   "metadata": {},
   "source": [
    "常用张量操作："
   ]
  },
  {
   "cell_type": "code",
   "execution_count": 2,
   "id": "253de83c-cda9-477c-9ec6-b5f2aef7d3cc",
   "metadata": {
    "execution": {
     "iopub.execute_input": "2024-12-26T14:53:35.409535Z",
     "iopub.status.busy": "2024-12-26T14:53:35.409121Z",
     "iopub.status.idle": "2024-12-26T14:53:35.414687Z",
     "shell.execute_reply": "2024-12-26T14:53:35.414214Z",
     "shell.execute_reply.started": "2024-12-26T14:53:35.409513Z"
    },
    "tags": []
   },
   "outputs": [
    {
     "name": "stdout",
     "output_type": "stream",
     "text": [
      "tensor([[ 1.0219e+00,  2.0203e+00, -1.0348e+00],\n",
      "        [-6.8890e-04, -3.0639e+00, -1.1037e+00]])\n",
      "tensor([[-0.0660,  0.9777, -0.1685],\n",
      "        [-0.0299,  2.2984,  0.0960]])\n",
      "tensor([[ 0.0850,  0.5092,  1.8425],\n",
      "        [-0.2785,  0.2338, -0.0125]])\n",
      "torch.Size([3, 2])\n"
     ]
    }
   ],
   "source": [
    "# 张量相加\n",
    "e = torch.randn(2, 3)\n",
    "f = torch.randn(2, 3)\n",
    "print(e + f)\n",
    "\n",
    "# 逐元素乘法\n",
    "print(e * f)\n",
    "\n",
    "# 张量的转置\n",
    "g = torch.randn(3, 2)\n",
    "print(g.t())  # 或者 g.transpose(0, 1)\n",
    "\n",
    "# 张量的形状\n",
    "print(g.shape)  # 返回形状"
   ]
  },
  {
   "cell_type": "markdown",
   "id": "58bc6e13-bfed-4fe4-b27c-6f0cc148bc29",
   "metadata": {},
   "source": [
    "张量与设备\n",
    "\n",
    "PyTorch 张量可以存在于不同的设备上，包括CPU和GPU，你可以将张量移动到 GPU 上以加速计算："
   ]
  },
  {
   "cell_type": "code",
   "execution_count": null,
   "id": "8ddf636f-ce46-4592-82a7-84cee731ed88",
   "metadata": {},
   "outputs": [],
   "source": [
    "if torch.cuda.is_available():\n",
    "    tensor_gpu = tensor_from_list.to('cuda')            # 将张量移动到GPU"
   ]
  },
  {
   "cell_type": "markdown",
   "id": "4267bfaf-bc12-4459-8199-a15e1e7bb198",
   "metadata": {},
   "source": [
    "梯度和自动微分\n",
    "\n",
    "PyTorch的张量支持自动微分，这是深度学习中的关键特性。当你创建一个需要梯度的张量时，PyTorch可以自动计算其梯度："
   ]
  },
  {
   "cell_type": "code",
   "execution_count": 3,
   "id": "5a1cc1f8-935d-4d66-b99d-5ce7a016af81",
   "metadata": {
    "execution": {
     "iopub.execute_input": "2024-12-26T14:55:23.827695Z",
     "iopub.status.busy": "2024-12-26T14:55:23.827356Z",
     "iopub.status.idle": "2024-12-26T14:55:23.831786Z",
     "shell.execute_reply": "2024-12-26T14:55:23.831321Z",
     "shell.execute_reply.started": "2024-12-26T14:55:23.827671Z"
    },
    "tags": []
   },
   "outputs": [
    {
     "name": "stdout",
     "output_type": "stream",
     "text": [
      "tensor([2.])\n"
     ]
    }
   ],
   "source": [
    "# 创建一个需要梯度的张量\n",
    "tensor_requires_grad = torch.tensor([1.0], requires_grad=True)\n",
    "\n",
    "# 进行一些操作\n",
    "tensor_result = tensor_requires_grad * 2\n",
    "\n",
    "# 计算梯度\n",
    "tensor_result.backward()\n",
    "print(tensor_requires_grad.grad)  # 输出梯度"
   ]
  },
  {
   "cell_type": "markdown",
   "id": "da3d693b-ee8b-4499-9756-dec1c6975a83",
   "metadata": {},
   "source": [
    "内存和性能\n",
    "\n",
    "PyTorch 张量还提供了一些内存管理功能，比如.clone()、.detach() 和 .to() 方法，它们可以帮助你优化内存使用和提高性能。"
   ]
  },
  {
   "cell_type": "markdown",
   "id": "6e47fea6-4e09-4fcb-94fe-05159bd34ab3",
   "metadata": {},
   "source": [
    "## 自动求导（Autograd）\n",
    "\n",
    "自动求导（Automatic Differentiation，简称Autograd）是深度学习框架中的一个核心特性，它允许计算机自动计算数学函数的导数。\n",
    "\n",
    "在深度学习中，自动求导主要用于两个方面：**一是在训练神经网络时计算梯度，二是进行反向传播算法的实现。**\n",
    "\n",
    "自动求导基于链式法则（Chain Rule），这是一个用于计算复杂函数导数的数学法则。链式法则表明，复合函数的导数是其各个组成部分导数的乘积。在深度学习中，模型通常是由许多层组成的复杂函数，自动求导能够高效地计算这些层的梯度。\n",
    "\n",
    "动态图与静态图：\n",
    "\n",
    "- 动态图（Dynamic Graph）：在动态图中，计算图在运行时动态构建。每次执行操作时，计算图都会更新，这使得调试和修改模型变得更加容易。PyTorch使用的是动态图。\n",
    "\n",
    "- 静态图（Static Graph）：在静态图中，计算图在开始执行之前构建完成，并且不会改变。TensorFlow最初使用的是静态图，但后来也支持动态图。\n",
    "\n",
    "PyTorch 提供了自动求导功能，通过 autograd 模块来自动计算梯度。\n",
    "\n",
    "torch.Tensor 对象有一个 requires_grad 属性，用于指示是否需要计算该张量的梯度。\n",
    "\n",
    "当你创建一个 requires_grad=True 的张量时，PyTorch 会自动跟踪所有对它的操作，以便在之后计算梯度。"
   ]
  },
  {
   "cell_type": "markdown",
   "id": "d4dfd3fd-219f-431d-9bd0-e18cd6d0d991",
   "metadata": {},
   "source": [
    "创建需要梯度的张量:"
   ]
  },
  {
   "cell_type": "code",
   "execution_count": 4,
   "id": "dd464688-e553-4661-92b9-87edd3699e88",
   "metadata": {
    "execution": {
     "iopub.execute_input": "2024-12-26T15:02:14.516156Z",
     "iopub.status.busy": "2024-12-26T15:02:14.515812Z",
     "iopub.status.idle": "2024-12-26T15:02:14.520687Z",
     "shell.execute_reply": "2024-12-26T15:02:14.520222Z",
     "shell.execute_reply.started": "2024-12-26T15:02:14.516135Z"
    },
    "tags": []
   },
   "outputs": [
    {
     "name": "stdout",
     "output_type": "stream",
     "text": [
      "tensor([[-1.2801,  0.9370],\n",
      "        [ 0.7736, -1.3100]], requires_grad=True)\n",
      "tensor(12.9850, grad_fn=<MeanBackward0>)\n"
     ]
    }
   ],
   "source": [
    "# 创建一个需要计算梯度的张量\n",
    "x = torch.randn(2, 2, requires_grad=True)\n",
    "print(x)\n",
    "\n",
    "# 执行某些操作\n",
    "y = x + 2\n",
    "z = y * y * 3\n",
    "out = z.mean()\n",
    "\n",
    "print(out)"
   ]
  },
  {
   "cell_type": "markdown",
   "id": "a1ac9db9-b2e4-4d73-b81f-a06261335d3c",
   "metadata": {},
   "source": [
    "反向传播（Backpropagation）\n",
    "\n",
    "一旦定义了计算图，可以通过 .backward() 方法来计算梯度。"
   ]
  },
  {
   "cell_type": "code",
   "execution_count": 5,
   "id": "895a3bd7-a667-4dfd-b427-ac3dec1e6ccd",
   "metadata": {
    "execution": {
     "iopub.execute_input": "2024-12-26T15:04:16.982388Z",
     "iopub.status.busy": "2024-12-26T15:04:16.982057Z",
     "iopub.status.idle": "2024-12-26T15:04:16.985878Z",
     "shell.execute_reply": "2024-12-26T15:04:16.985424Z",
     "shell.execute_reply.started": "2024-12-26T15:04:16.982368Z"
    },
    "tags": []
   },
   "outputs": [
    {
     "name": "stdout",
     "output_type": "stream",
     "text": [
      "tensor([[1.0798, 4.4055],\n",
      "        [4.1605, 1.0350]])\n"
     ]
    }
   ],
   "source": [
    "# 反向传播，计算梯度\n",
    "out.backward()\n",
    "\n",
    "# 查看 x 的梯度\n",
    "print(x.grad)"
   ]
  },
  {
   "cell_type": "markdown",
   "id": "0085a22a-0370-46f4-a452-8136cecba511",
   "metadata": {},
   "source": [
    "在神经网络训练中，自动求导主要用于实现反向传播算法。\n",
    "\n",
    "反向传播是一种通过计算损失函数关于网络参数的梯度来训练神经网络的方法。在每次迭代中，网络的前向传播会计算输出和损失，然后反向传播会计算损失关于每个参数的梯度，并使用这些梯度来更新参数。"
   ]
  },
  {
   "cell_type": "markdown",
   "id": "91b4f07b-cc6a-4dcf-aa2e-a57dd06f1c14",
   "metadata": {},
   "source": [
    "停止梯度计算\n",
    "\n",
    "如果你不希望某些张量的梯度被计算（例如，当你不需要反向传播时），可以使用 torch.no_grad() 或设置 requires_grad=False。"
   ]
  },
  {
   "cell_type": "code",
   "execution_count": 7,
   "id": "5308b0fb-5239-42d3-b9d8-de4292eb6451",
   "metadata": {
    "execution": {
     "iopub.execute_input": "2024-12-26T15:06:20.424855Z",
     "iopub.status.busy": "2024-12-26T15:06:20.424526Z",
     "iopub.status.idle": "2024-12-26T15:06:20.427568Z",
     "shell.execute_reply": "2024-12-26T15:06:20.427115Z",
     "shell.execute_reply.started": "2024-12-26T15:06:20.424836Z"
    },
    "tags": []
   },
   "outputs": [],
   "source": [
    "# 使用 torch.no_grad() 禁用梯度计算\n",
    "with torch.no_grad():\n",
    "    y = x * 2"
   ]
  },
  {
   "cell_type": "markdown",
   "id": "e7a7e107-ce12-4b56-b52e-24eec3789ea6",
   "metadata": {},
   "source": [
    "# 神经网络（nn.Module）\n",
    "\n",
    "神经网络是一种模仿人脑神经元连接的计算模型，由多层节点（神经元）组成，用于学习数据之间的复杂模式和关系。\n",
    "\n",
    "神经网络通过调整神经元之间的连接权重来优化预测结果，这一过程涉及前向传播、损失计算、反向传播和参数更新。\n",
    "\n",
    "神经网络的类型包括前馈神经网络、卷积神经网络（CNN）、循环神经网络（RNN）和长短期记忆网络（LSTM），它们在图像识别、语音处理、自然语言处理等多个领域都有广泛应用。\n",
    "\n",
    "PyTorch 提供了一个非常方便的接口来构建神经网络模型，即 torch.nn.Module。\n",
    "\n",
    "我们可以继承 nn.Module 类并定义自己的网络层。"
   ]
  },
  {
   "cell_type": "markdown",
   "id": "cc218932-3806-4fec-b5cb-afb1e94da912",
   "metadata": {},
   "source": [
    "创建一个简单的神经网络："
   ]
  },
  {
   "cell_type": "code",
   "execution_count": 8,
   "id": "d874797f-7bae-47d6-bac7-a427eea9648e",
   "metadata": {
    "execution": {
     "iopub.execute_input": "2024-12-26T15:09:17.820969Z",
     "iopub.status.busy": "2024-12-26T15:09:17.820636Z",
     "iopub.status.idle": "2024-12-26T15:09:17.825678Z",
     "shell.execute_reply": "2024-12-26T15:09:17.825226Z",
     "shell.execute_reply.started": "2024-12-26T15:09:17.820949Z"
    },
    "tags": []
   },
   "outputs": [
    {
     "name": "stdout",
     "output_type": "stream",
     "text": [
      "SimpleNN(\n",
      "  (fc1): Linear(in_features=2, out_features=2, bias=True)\n",
      "  (fc2): Linear(in_features=2, out_features=1, bias=True)\n",
      ")\n"
     ]
    }
   ],
   "source": [
    "import torch.nn as nn\n",
    "import torch.optim as optim\n",
    "\n",
    "# 定义一个简单的全连接神经网络\n",
    "\n",
    "class SimpleNN(nn.Module):\n",
    "    def __init__(self):\n",
    "        super(SimpleNN, self).__init__()\n",
    "        self.fc1 = nn.Linear(2, 2)  # 输入层到隐藏层\n",
    "        self.fc2 = nn.Linear(2, 1)  # 隐藏层到输出层\n",
    "\n",
    "    def forward(self, x):\n",
    "        x = torch.relu(self.fc1(x))  # ReLU 激活函数\n",
    "        x = self.fc2(x)\n",
    "        return x\n",
    "\n",
    "# 创建网络实例\n",
    "\n",
    "model = SimpleNN()\n",
    "\n",
    "# 打印模型结构\n",
    "print(model)"
   ]
  },
  {
   "cell_type": "markdown",
   "id": "3385010a-c22a-4cb2-bc85-204e5f2f742f",
   "metadata": {},
   "source": [
    "训练过程：\n",
    "\n",
    "- 前向传播（Forward Propagation）： 在前向传播阶段，输入数据通过网络层传递，每层应用权重和激活函数，直到产生输出。\n",
    "\n",
    "- 计算损失（Calculate Loss）： 根据网络的输出和真实标签，计算损失函数的值。\n",
    "\n",
    "- 反向传播（Backpropagation）： 反向传播利用自动求导技术计算损失函数关于每个参数的梯度。\n",
    "\n",
    "- 参数更新（Parameter Update）： 使用优化器根据梯度更新网络的权重和偏置。\n",
    "\n",
    "- 迭代（Iteration）： 重复上述过程，直到模型在训练数据上的性能达到满意的水平。"
   ]
  },
  {
   "cell_type": "markdown",
   "id": "a737da8b-e206-414b-beb6-2694d9b4d839",
   "metadata": {},
   "source": [
    "前向传播与损失计算"
   ]
  },
  {
   "cell_type": "code",
   "execution_count": 9,
   "id": "cd1a44d4-4557-43a4-af7c-e8c22d62004d",
   "metadata": {
    "execution": {
     "iopub.execute_input": "2024-12-26T15:12:05.737868Z",
     "iopub.status.busy": "2024-12-26T15:12:05.737514Z",
     "iopub.status.idle": "2024-12-26T15:12:05.742679Z",
     "shell.execute_reply": "2024-12-26T15:12:05.742201Z",
     "shell.execute_reply.started": "2024-12-26T15:12:05.737849Z"
    },
    "tags": []
   },
   "outputs": [
    {
     "name": "stdout",
     "output_type": "stream",
     "text": [
      "tensor([[0.4438]], grad_fn=<AddmmBackward0>)\n",
      "tensor(0.0048, grad_fn=<MseLossBackward0>)\n"
     ]
    }
   ],
   "source": [
    "# 随机输入\n",
    "x = torch.randn(1, 2)\n",
    "\n",
    "# 前向传播\n",
    "output = model(x)\n",
    "print(output)\n",
    "\n",
    "# 定义损失函数（例如均方误差 MSE）\n",
    "criterion = nn.MSELoss()\n",
    "\n",
    "# 假设目标值为 1\n",
    "target = torch.randn(1, 1)\n",
    "\n",
    "# 计算损失\n",
    "loss = criterion(output, target)\n",
    "print(loss)"
   ]
  },
  {
   "cell_type": "markdown",
   "id": "afc600a4-fc93-4484-a1a8-63e861899860",
   "metadata": {},
   "source": [
    "优化器（Optimizers）\n",
    "\n",
    "优化器在训练过程中更新神经网络的参数，以减少损失函数的值。\n",
    "\n",
    "PyTorch 提供了多种优化器，例如 SGD、Adam 等。\n",
    "\n",
    "使用优化器进行参数更新："
   ]
  },
  {
   "cell_type": "code",
   "execution_count": 10,
   "id": "c80159a8-f070-409d-8066-b8258c6e7d27",
   "metadata": {
    "execution": {
     "iopub.execute_input": "2024-12-26T15:12:59.533833Z",
     "iopub.status.busy": "2024-12-26T15:12:59.533493Z",
     "iopub.status.idle": "2024-12-26T15:13:00.083980Z",
     "shell.execute_reply": "2024-12-26T15:13:00.083479Z",
     "shell.execute_reply.started": "2024-12-26T15:12:59.533812Z"
    },
    "tags": []
   },
   "outputs": [],
   "source": [
    "# 定义优化器（使用 Adam 优化器）\n",
    "optimizer = optim.Adam(model.parameters(), lr=0.001)\n",
    "\n",
    "# 训练步骤\n",
    "optimizer.zero_grad()  # 清空梯度\n",
    "loss.backward()  # 反向传播\n",
    "optimizer.step()  # 更新参数"
   ]
  },
  {
   "cell_type": "markdown",
   "id": "4bbdc4bf-5c4b-4b03-a40b-e9017dda342b",
   "metadata": {},
   "source": [
    "## 训练模型\n",
    "\n",
    "训练模型是机器学习和深度学习中的核心过程，旨在通过大量数据学习模型参数，以便模型能够对新的、未见过的数据做出准确的预测。\n",
    "\n",
    "训练模型通常包括以下几个步骤：\n",
    "\n",
    "1.数据准备：\n",
    "\n",
    "- 收集和处理数据，包括清洗、标准化和归一化。\n",
    "\n",
    "- 将数据分为训练集、验证集和测试集。\n",
    "\n",
    "2.定义模型：\n",
    "\n",
    "- 选择模型架构，例如决策树、神经网络等。\n",
    "\n",
    "- 初始化模型参数（权重和偏置）。\n",
    "\n",
    "3.选择损失函数：\n",
    "\n",
    "- 根据任务类型（如分类、回归）选择合适的损失函数。\n",
    "\n",
    "4.选择优化器：\n",
    "\n",
    "- 选择一个优化算法，如SGD、Adam等，来更新模型参数。\n",
    "\n",
    "5.前向传播：\n",
    "\n",
    "- 在每次迭代中，将输入数据通过模型传递，计算预测输出。\n",
    "\n",
    "6.计算损失：\n",
    "\n",
    "- 使用损失函数评估预测输出与真实标签之间的差异。\n",
    "\n",
    "7.反向传播：\n",
    "\n",
    "- 利用自动求导计算损失相对于模型参数的梯度。\n",
    "\n",
    "8.参数更新：\n",
    "\n",
    "- 根据计算出的梯度和优化器的策略更新模型参数。\n",
    "\n",
    "9.迭代优化：\n",
    "\n",
    "- 重复步骤5-8，直到模型在验证集上的性能不再提升或达到预定的迭代次数。\n",
    "\n",
    "10.评估和测试：\n",
    "\n",
    "- 使用测试集评估模型的最终性能，确保模型没有过拟合。\n",
    "\n",
    "11.模型调优：\n",
    "\n",
    "- 根据模型在测试集上的表现进行调参，如改变学习率、增加正则化等。\n",
    "\n",
    "12.部署模型：\n",
    "\n",
    "- 将训练好的模型部署到生产环境中，用于实际的预测任务。"
   ]
  },
  {
   "cell_type": "code",
   "execution_count": null,
   "id": "f9e59925-81ff-4526-aacd-1c0401670f1e",
   "metadata": {},
   "outputs": [],
   "source": [
    "import torch\n",
    "import torch.nn as nn\n",
    "import torch.optim as optim\n",
    "\n",
    "# 1. 定义一个简单的神经网络模型\n",
    "class SimpleNN(nn.Module):\n",
    "    def __init__(self):\n",
    "        super(SimpleNN, self).__init__()\n",
    "        self.fc1 = nn.Linear(2, 2)  # 输入层到隐藏层\n",
    "        self.fc2 = nn.Linear(2, 1)  # 隐藏层到输出层\n",
    "    \n",
    "    def forward(self, x):\n",
    "        x = torch.relu(self.fc1(x))  # ReLU 激活函数\n",
    "        x = self.fc2(x)\n",
    "        return x\n",
    "\n",
    "# 2. 创建模型实例\n",
    "model = SimpleNN()\n",
    "\n",
    "# 3. 定义损失函数和优化器\n",
    "criterion = nn.MSELoss()  # 均方误差损失函数\n",
    "optimizer = optim.Adam(model.parameters(), lr=0.001)  # Adam 优化器\n",
    "\n",
    "# 4. 假设我们有训练数据 X 和 Y\n",
    "X = torch.randn(10, 2)  # 10 个样本，2 个特征\n",
    "Y = torch.randn(10, 1)  # 10 个目标值\n",
    "\n",
    "# 5. 训练循环\n",
    "for epoch in range(100):  # 训练 100 轮\n",
    "    optimizer.zero_grad()  # 清空之前的梯度\n",
    "    output = model(X)  # 前向传播\n",
    "    loss = criterion(output, Y)  # 计算损失\n",
    "    loss.backward()  # 反向传播\n",
    "    optimizer.step()  # 更新参数\n",
    "    \n",
    "    # 每 10 轮输出一次损失\n",
    "    if (epoch+1) % 10 == 0:\n",
    "        print(f'Epoch [{epoch+1}/100], Loss: {loss.item():.4f}')"
   ]
  }
 ],
 "metadata": {
  "kernelspec": {
   "display_name": "Python 3 (ipykernel)",
   "language": "python",
   "name": "python3"
  },
  "language_info": {
   "codemirror_mode": {
    "name": "ipython",
    "version": 3
   },
   "file_extension": ".py",
   "mimetype": "text/x-python",
   "name": "python",
   "nbconvert_exporter": "python",
   "pygments_lexer": "ipython3",
   "version": "3.10.14"
  }
 },
 "nbformat": 4,
 "nbformat_minor": 5
}
